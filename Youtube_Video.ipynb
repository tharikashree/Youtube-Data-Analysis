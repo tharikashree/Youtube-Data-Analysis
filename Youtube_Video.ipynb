{
 "cells": [
  {
   "cell_type": "markdown",
   "id": "a2854234-1704-4179-a9a4-61595c0f47cf",
   "metadata": {},
   "source": [
    "# Data Scraping"
   ]
  },
  {
   "cell_type": "code",
   "execution_count": 422,
   "id": "8efa9e87-1c93-4173-aae5-921a18eebc34",
   "metadata": {},
   "outputs": [],
   "source": [
    "from selenium import webdriver\n",
    "import pandas as pd\n",
    "from bs4 import BeautifulSoup\n",
    "from selenium.webdriver.chrome.options import Options\n",
    "import time"
   ]
  },
  {
   "cell_type": "code",
   "execution_count": 423,
   "id": "c8340150-6c1a-49e3-9b5d-699a465cbdbc",
   "metadata": {},
   "outputs": [],
   "source": [
    "# YouTube search URL\n",
    "search_query = \"python for beginners\"\n",
    "url = f\"https://www.youtube.com/results?search_query={search_query.replace(' ', '+')}\""
   ]
  },
  {
   "cell_type": "code",
   "execution_count": 424,
   "id": "8038f70e-73ff-4276-bd12-1150780dd067",
   "metadata": {},
   "outputs": [],
   "source": [
    "#Setting up Selenium Webdriver\n",
    "chrome_options = Options()\n",
    "\n",
    "#Initializing webdriver\n",
    "driver=webdriver.Chrome(options=chrome_options)\n",
    "driver.get(url)\n",
    "time.sleep(10)  # Wait for the page to load\n",
    "\n",
    "# Scroll to load more videos (Adjust the range for more videos)\n",
    "for _ in range(15):  \n",
    "    driver.execute_script(\"window.scrollBy(0, 1000);\")\n",
    "    time.sleep(2)\n",
    "\n",
    "# Get page source and parse with BeautifulSoup\n",
    "soup = BeautifulSoup(driver.page_source, \"html.parser\")\n",
    "driver.quit()"
   ]
  },
  {
   "cell_type": "code",
   "execution_count": 425,
   "id": "ccadf8c8-4aaf-4e92-a098-4f6c86d68821",
   "metadata": {},
   "outputs": [],
   "source": [
    "# Extract video details\n",
    "videos = soup.find_all(\"ytd-video-renderer\", limit=50)  # Get videos\n",
    "data = []\n",
    "\n",
    "for video in videos:\n",
    "    title_tag = video.find(\"a\", id=\"video-title\")\n",
    "    title = title_tag.text.strip() if title_tag else \"N/A\"\n",
    "    link = f\"https://www.youtube.com{title_tag['href']}\" if title_tag else \"N/A\"\n",
    "\n",
    "    channel_tag = video.find(\"a\", class_=\"yt-simple-endpoint style-scope yt-formatted-string\")\n",
    "    channel = channel_tag.text.strip() if channel_tag else \"N/A\"\n",
    "\n",
    "    duration_tag = video.find(\"span\", class_=\"style-scope ytd-thumbnail-overlay-time-status-renderer\")\n",
    "    duration = duration_tag.text.strip() if duration_tag else \"N/A\"\n",
    "    \n",
    "    views_upload_tag = video.select(\"span.ytd-video-meta-block.style-scope\")\n",
    "    if len(views_upload_tag) > 1:\n",
    "        views_text = views_upload_tag[0].text # First element contains views\n",
    "        upload_text = views_upload_tag[1].text\n",
    "    else:\n",
    "        views_text = \"N/A\"  # Fallback if views are missing\n",
    "        upload_text = \"N/A\"  \n",
    "\n",
    "    data.append([title, channel, views_text, upload_text, duration, link])"
   ]
  },
  {
   "cell_type": "code",
   "execution_count": 426,
   "id": "8b35e946-5568-417e-8228-8fc73ec3ec3c",
   "metadata": {},
   "outputs": [
    {
     "name": "stdout",
     "output_type": "stream",
     "text": [
      "Data saved to YouTube_Videos.xlsx\n"
     ]
    }
   ],
   "source": [
    "# Save to Excel\n",
    "df = pd.DataFrame(data, columns=[\"Title\", \"Channel\", \"Views\", \"Upload Time\", \"Duration\", \"Link\"])\n",
    "df.to_excel(\"YouTube_Videos.xlsx\", index=False)\n",
    "print(\"Data saved to YouTube_Videos.xlsx\")"
   ]
  },
  {
   "cell_type": "code",
   "execution_count": 427,
   "id": "b6553679-d90a-4ab7-89b4-26cd3342f310",
   "metadata": {},
   "outputs": [
    {
     "data": {
      "text/plain": [
       "(45, 6)"
      ]
     },
     "execution_count": 427,
     "metadata": {},
     "output_type": "execute_result"
    }
   ],
   "source": [
    "df.shape"
   ]
  },
  {
   "cell_type": "markdown",
   "id": "8ead5806-5326-4057-b171-9b0f27a64a8a",
   "metadata": {},
   "source": [
    "# Data Preprocessing"
   ]
  },
  {
   "cell_type": "code",
   "execution_count": 428,
   "id": "a5a4965a-b8bb-411d-94ab-4e837cbcd39f",
   "metadata": {},
   "outputs": [
    {
     "data": {
      "text/html": [
       "<div>\n",
       "<style scoped>\n",
       "    .dataframe tbody tr th:only-of-type {\n",
       "        vertical-align: middle;\n",
       "    }\n",
       "\n",
       "    .dataframe tbody tr th {\n",
       "        vertical-align: top;\n",
       "    }\n",
       "\n",
       "    .dataframe thead th {\n",
       "        text-align: right;\n",
       "    }\n",
       "</style>\n",
       "<table border=\"1\" class=\"dataframe\">\n",
       "  <thead>\n",
       "    <tr style=\"text-align: right;\">\n",
       "      <th></th>\n",
       "      <th>Title</th>\n",
       "      <th>Channel</th>\n",
       "      <th>Views</th>\n",
       "      <th>Upload Time</th>\n",
       "      <th>Duration</th>\n",
       "      <th>Link</th>\n",
       "    </tr>\n",
       "  </thead>\n",
       "  <tbody>\n",
       "    <tr>\n",
       "      <th>0</th>\n",
       "      <td>Python for Beginners - Learn Coding with Pytho...</td>\n",
       "      <td>Programming with Mosh</td>\n",
       "      <td>20M views</td>\n",
       "      <td>4 years ago</td>\n",
       "      <td>1:00:06</td>\n",
       "      <td>https://www.youtube.com/watch?v=kqtD5dpn9C8&amp;pp...</td>\n",
       "    </tr>\n",
       "    <tr>\n",
       "      <th>1</th>\n",
       "      <td>Python Full Course for Beginners</td>\n",
       "      <td>Programming with Mosh</td>\n",
       "      <td>43M views</td>\n",
       "      <td>6 years ago</td>\n",
       "      <td>6:14:07</td>\n",
       "      <td>https://www.youtube.com/watch?v=_uQrJ0TkZlc&amp;pp...</td>\n",
       "    </tr>\n",
       "    <tr>\n",
       "      <th>2</th>\n",
       "      <td>Python Tutorial for Beginners | Learn Python i...</td>\n",
       "      <td>Apna College</td>\n",
       "      <td>10M views</td>\n",
       "      <td>3 years ago</td>\n",
       "      <td>1:17:12</td>\n",
       "      <td>https://www.youtube.com/watch?v=vLqTf2b6GZw&amp;pp...</td>\n",
       "    </tr>\n",
       "    <tr>\n",
       "      <th>3</th>\n",
       "      <td>Python Part: 13|| Break and Continute in Pytho...</td>\n",
       "      <td>computer shagoofi</td>\n",
       "      <td>22 views</td>\n",
       "      <td>2 days ago</td>\n",
       "      <td>3:58</td>\n",
       "      <td>https://www.youtube.com/watch?v=oSku7SuCRfM&amp;pp...</td>\n",
       "    </tr>\n",
       "    <tr>\n",
       "      <th>4</th>\n",
       "      <td>Python Tutorial - Python Full Course for Begin...</td>\n",
       "      <td>Error Makes Clever</td>\n",
       "      <td>4.5M views</td>\n",
       "      <td>1 year ago</td>\n",
       "      <td>9:38:04</td>\n",
       "      <td>https://www.youtube.com/watch?v=m67-bOpOoPU&amp;pp...</td>\n",
       "    </tr>\n",
       "  </tbody>\n",
       "</table>\n",
       "</div>"
      ],
      "text/plain": [
       "                                               Title                Channel  \\\n",
       "0  Python for Beginners - Learn Coding with Pytho...  Programming with Mosh   \n",
       "1                   Python Full Course for Beginners  Programming with Mosh   \n",
       "2  Python Tutorial for Beginners | Learn Python i...           Apna College   \n",
       "3  Python Part: 13|| Break and Continute in Pytho...      computer shagoofi   \n",
       "4  Python Tutorial - Python Full Course for Begin...     Error Makes Clever   \n",
       "\n",
       "        Views  Upload Time Duration  \\\n",
       "0   20M views  4 years ago  1:00:06   \n",
       "1   43M views  6 years ago  6:14:07   \n",
       "2   10M views  3 years ago  1:17:12   \n",
       "3    22 views   2 days ago     3:58   \n",
       "4  4.5M views   1 year ago  9:38:04   \n",
       "\n",
       "                                                Link  \n",
       "0  https://www.youtube.com/watch?v=kqtD5dpn9C8&pp...  \n",
       "1  https://www.youtube.com/watch?v=_uQrJ0TkZlc&pp...  \n",
       "2  https://www.youtube.com/watch?v=vLqTf2b6GZw&pp...  \n",
       "3  https://www.youtube.com/watch?v=oSku7SuCRfM&pp...  \n",
       "4  https://www.youtube.com/watch?v=m67-bOpOoPU&pp...  "
      ]
     },
     "execution_count": 428,
     "metadata": {},
     "output_type": "execute_result"
    }
   ],
   "source": [
    "data = pd.read_excel('Youtube_Videos.xlsx') \n",
    "data.head()"
   ]
  },
  {
   "cell_type": "code",
   "execution_count": 429,
   "id": "91aec0ff-884a-4f31-b371-f28f6c7efa93",
   "metadata": {},
   "outputs": [],
   "source": [
    "data['Views'] = data['Views'].str.replace(\" views\",\"\")   \n",
    "views_new = [] \n",
    "for i in data['Views']:\n",
    "    i=str(i)\n",
    "    if(i.endswith('K')): \n",
    "        i = i.replace('K','') \n",
    "        views_new.append(float(i) * 1000) \n",
    "    else : \n",
    "        views_new.append(i) \n",
    "  \n",
    "data['Views'] = views_new\n",
    "data['Views'] = data['Views'].fillna(0)  # Replaces NaN with 0"
   ]
  },
  {
   "cell_type": "code",
   "execution_count": 430,
   "id": "4954864d-89ab-4d94-8a7c-9737d9c14b00",
   "metadata": {},
   "outputs": [],
   "source": [
    "duration_new = [] \n",
    "  \n",
    "for i in data['Duration']: \n",
    "    if(i=='SHORTS'):\n",
    "        duration_new.append(30)\n",
    "    elif(len(str(i).split(':'))==1): \n",
    "        duration_new.append(i) \n",
    "    elif(len(i.split(':'))==2): \n",
    "        i = i.split(':') \n",
    "        time = int(i[0])*60 + int(i[1]) \n",
    "        duration_new.append(time) \n",
    "    elif(len(i.split(':'))==3): \n",
    "        i = i.split(':') \n",
    "        time = int(i[0])*3600 + int(i[1])*60 + int(i[2]) \n",
    "        duration_new.append(time) \n",
    "          \n",
    "data['Duration'] = duration_new\n",
    "data['Duration'] = data['Duration'].fillna(0)  # Replaces NaN with 0"
   ]
  },
  {
   "cell_type": "code",
   "execution_count": 431,
   "id": "af7abd1d-9c24-4fc9-ad6d-80f013d80b83",
   "metadata": {},
   "outputs": [],
   "source": [
    "# Categorize videos based on duration\n",
    "def categorize_duration(sec):\n",
    "    if sec == 30:\n",
    "        return 'SHORTS'\n",
    "    elif sec < 900:  # Less than 15 min\n",
    "        return 'Mini-Videos'\n",
    "    elif sec < 3600:  # Less than 1 hour\n",
    "        return 'Long-Videos'\n",
    "    else:\n",
    "        return 'Very-Long-Videos'\n",
    "\n",
    "# Create Category column\n",
    "data['Category'] = data['Duration'].apply(categorize_duration)\n",
    "data['Category'] = data['Category'].fillna(0)  # Replaces NaN with 0\n",
    "data['Upload Time'] = data['Upload Time'].fillna(0)  # Replaces NaN with 0"
   ]
  },
  {
   "cell_type": "code",
   "execution_count": 432,
   "id": "66412707-397b-4f3b-ab40-061a7e615df8",
   "metadata": {},
   "outputs": [],
   "source": [
    "# Append 's' at the end\n",
    "data['Duration'] = [f\"{d} s\" for d in duration_new]"
   ]
  },
  {
   "cell_type": "code",
   "execution_count": 433,
   "id": "6d4a7e93-d92e-4d9f-80c2-15eb08a6b5ad",
   "metadata": {},
   "outputs": [
    {
     "data": {
      "text/html": [
       "<div>\n",
       "<style scoped>\n",
       "    .dataframe tbody tr th:only-of-type {\n",
       "        vertical-align: middle;\n",
       "    }\n",
       "\n",
       "    .dataframe tbody tr th {\n",
       "        vertical-align: top;\n",
       "    }\n",
       "\n",
       "    .dataframe thead th {\n",
       "        text-align: right;\n",
       "    }\n",
       "</style>\n",
       "<table border=\"1\" class=\"dataframe\">\n",
       "  <thead>\n",
       "    <tr style=\"text-align: right;\">\n",
       "      <th></th>\n",
       "      <th>Title</th>\n",
       "      <th>Channel</th>\n",
       "      <th>Views</th>\n",
       "      <th>Upload Time</th>\n",
       "      <th>Duration</th>\n",
       "      <th>Link</th>\n",
       "      <th>Category</th>\n",
       "    </tr>\n",
       "  </thead>\n",
       "  <tbody>\n",
       "    <tr>\n",
       "      <th>0</th>\n",
       "      <td>Python for Beginners - Learn Coding with Pytho...</td>\n",
       "      <td>Programming with Mosh</td>\n",
       "      <td>20M</td>\n",
       "      <td>4 years ago</td>\n",
       "      <td>3606 s</td>\n",
       "      <td>https://www.youtube.com/watch?v=kqtD5dpn9C8&amp;pp...</td>\n",
       "      <td>Very-Long-Videos</td>\n",
       "    </tr>\n",
       "    <tr>\n",
       "      <th>1</th>\n",
       "      <td>Python Full Course for Beginners</td>\n",
       "      <td>Programming with Mosh</td>\n",
       "      <td>43M</td>\n",
       "      <td>6 years ago</td>\n",
       "      <td>22447 s</td>\n",
       "      <td>https://www.youtube.com/watch?v=_uQrJ0TkZlc&amp;pp...</td>\n",
       "      <td>Very-Long-Videos</td>\n",
       "    </tr>\n",
       "    <tr>\n",
       "      <th>2</th>\n",
       "      <td>Python Tutorial for Beginners | Learn Python i...</td>\n",
       "      <td>Apna College</td>\n",
       "      <td>10M</td>\n",
       "      <td>3 years ago</td>\n",
       "      <td>4632 s</td>\n",
       "      <td>https://www.youtube.com/watch?v=vLqTf2b6GZw&amp;pp...</td>\n",
       "      <td>Very-Long-Videos</td>\n",
       "    </tr>\n",
       "    <tr>\n",
       "      <th>3</th>\n",
       "      <td>Python Part: 13|| Break and Continute in Pytho...</td>\n",
       "      <td>computer shagoofi</td>\n",
       "      <td>22</td>\n",
       "      <td>2 days ago</td>\n",
       "      <td>238 s</td>\n",
       "      <td>https://www.youtube.com/watch?v=oSku7SuCRfM&amp;pp...</td>\n",
       "      <td>Mini-Videos</td>\n",
       "    </tr>\n",
       "    <tr>\n",
       "      <th>4</th>\n",
       "      <td>Python Tutorial - Python Full Course for Begin...</td>\n",
       "      <td>Error Makes Clever</td>\n",
       "      <td>4.5M</td>\n",
       "      <td>1 year ago</td>\n",
       "      <td>34684 s</td>\n",
       "      <td>https://www.youtube.com/watch?v=m67-bOpOoPU&amp;pp...</td>\n",
       "      <td>Very-Long-Videos</td>\n",
       "    </tr>\n",
       "  </tbody>\n",
       "</table>\n",
       "</div>"
      ],
      "text/plain": [
       "                                               Title                Channel  \\\n",
       "0  Python for Beginners - Learn Coding with Pytho...  Programming with Mosh   \n",
       "1                   Python Full Course for Beginners  Programming with Mosh   \n",
       "2  Python Tutorial for Beginners | Learn Python i...           Apna College   \n",
       "3  Python Part: 13|| Break and Continute in Pytho...      computer shagoofi   \n",
       "4  Python Tutorial - Python Full Course for Begin...     Error Makes Clever   \n",
       "\n",
       "  Views  Upload Time Duration  \\\n",
       "0   20M  4 years ago   3606 s   \n",
       "1   43M  6 years ago  22447 s   \n",
       "2   10M  3 years ago   4632 s   \n",
       "3    22   2 days ago    238 s   \n",
       "4  4.5M   1 year ago  34684 s   \n",
       "\n",
       "                                                Link          Category  \n",
       "0  https://www.youtube.com/watch?v=kqtD5dpn9C8&pp...  Very-Long-Videos  \n",
       "1  https://www.youtube.com/watch?v=_uQrJ0TkZlc&pp...  Very-Long-Videos  \n",
       "2  https://www.youtube.com/watch?v=vLqTf2b6GZw&pp...  Very-Long-Videos  \n",
       "3  https://www.youtube.com/watch?v=oSku7SuCRfM&pp...       Mini-Videos  \n",
       "4  https://www.youtube.com/watch?v=m67-bOpOoPU&pp...  Very-Long-Videos  "
      ]
     },
     "execution_count": 433,
     "metadata": {},
     "output_type": "execute_result"
    }
   ],
   "source": [
    "data.head()"
   ]
  },
  {
   "cell_type": "markdown",
   "id": "d7234411-e279-45e3-aebc-73bfe2321d3d",
   "metadata": {},
   "source": [
    "# Text Pre-Processing"
   ]
  },
  {
   "cell_type": "code",
   "execution_count": 434,
   "id": "6299e544-5f60-44cf-a544-fbaf757fea00",
   "metadata": {},
   "outputs": [
    {
     "name": "stderr",
     "output_type": "stream",
     "text": [
      "[nltk_data] Downloading package punkt to\n",
      "[nltk_data]     C:\\Users\\shree\\AppData\\Roaming\\nltk_data...\n",
      "[nltk_data]   Package punkt is already up-to-date!\n",
      "[nltk_data] Downloading package stopwords to\n",
      "[nltk_data]     C:\\Users\\shree\\AppData\\Roaming\\nltk_data...\n",
      "[nltk_data]   Package stopwords is already up-to-date!\n"
     ]
    }
   ],
   "source": [
    "import re \n",
    "from tqdm import tqdm \n",
    "import nltk \n",
    "nltk.download('punkt') \n",
    "nltk.download('stopwords') \n",
    "from nltk.corpus import stopwords"
   ]
  },
  {
   "cell_type": "code",
   "execution_count": 435,
   "id": "27855500-0c87-43f9-a3a9-a9641700d201",
   "metadata": {},
   "outputs": [
    {
     "name": "stderr",
     "output_type": "stream",
     "text": [
      "100%|██████████| 35/35 [00:00<00:00, 230.47it/s]\n"
     ]
    }
   ],
   "source": [
    "def preprocess_text(text_data): \n",
    "    preprocessed_text = [] \n",
    "      \n",
    "    for sentence in tqdm(text_data): \n",
    "        #Remove punctuations and anything other than whitespace and words\n",
    "        sentence = re.sub(r'[^\\w\\s]', '', sentence) #re is regular expressions\n",
    "        preprocessed_text.append(' '.join(token.lower() \n",
    "                                  for token in str(sentence).split() \n",
    "                                  if token not in stopwords.words('english'))) #Remove the stop words [\"in\",\"is\",\"the\"]\n",
    "  \n",
    "    return preprocessed_text \n",
    "    \n",
    "preprocessed_review = preprocess_text(data['Title'].values) \n",
    "data['Title'] = preprocessed_review"
   ]
  },
  {
   "cell_type": "code",
   "execution_count": 436,
   "id": "6b56bb56-fdcf-4a0d-9571-507369f1898e",
   "metadata": {},
   "outputs": [
    {
     "data": {
      "text/plain": [
       "(35, 7)"
      ]
     },
     "execution_count": 436,
     "metadata": {},
     "output_type": "execute_result"
    }
   ],
   "source": [
    "data.shape"
   ]
  },
  {
   "cell_type": "code",
   "execution_count": 437,
   "id": "898f0ce2-8f4e-4570-9432-cb74dd4643d1",
   "metadata": {},
   "outputs": [
    {
     "data": {
      "text/html": [
       "<div>\n",
       "<style scoped>\n",
       "    .dataframe tbody tr th:only-of-type {\n",
       "        vertical-align: middle;\n",
       "    }\n",
       "\n",
       "    .dataframe tbody tr th {\n",
       "        vertical-align: top;\n",
       "    }\n",
       "\n",
       "    .dataframe thead th {\n",
       "        text-align: right;\n",
       "    }\n",
       "</style>\n",
       "<table border=\"1\" class=\"dataframe\">\n",
       "  <thead>\n",
       "    <tr style=\"text-align: right;\">\n",
       "      <th></th>\n",
       "      <th>Title</th>\n",
       "      <th>Channel</th>\n",
       "      <th>Views</th>\n",
       "      <th>Upload Time</th>\n",
       "      <th>Duration</th>\n",
       "      <th>Link</th>\n",
       "      <th>Category</th>\n",
       "    </tr>\n",
       "  </thead>\n",
       "  <tbody>\n",
       "    <tr>\n",
       "      <th>0</th>\n",
       "      <td>python beginners learn coding python 1 hour</td>\n",
       "      <td>Programming with Mosh</td>\n",
       "      <td>20M</td>\n",
       "      <td>4 years ago</td>\n",
       "      <td>3606 s</td>\n",
       "      <td>https://www.youtube.com/watch?v=kqtD5dpn9C8&amp;pp...</td>\n",
       "      <td>Very-Long-Videos</td>\n",
       "    </tr>\n",
       "    <tr>\n",
       "      <th>1</th>\n",
       "      <td>python full course beginners</td>\n",
       "      <td>Programming with Mosh</td>\n",
       "      <td>43M</td>\n",
       "      <td>6 years ago</td>\n",
       "      <td>22447 s</td>\n",
       "      <td>https://www.youtube.com/watch?v=_uQrJ0TkZlc&amp;pp...</td>\n",
       "      <td>Very-Long-Videos</td>\n",
       "    </tr>\n",
       "    <tr>\n",
       "      <th>2</th>\n",
       "      <td>python tutorial beginners learn python 15 hours</td>\n",
       "      <td>Apna College</td>\n",
       "      <td>10M</td>\n",
       "      <td>3 years ago</td>\n",
       "      <td>4632 s</td>\n",
       "      <td>https://www.youtube.com/watch?v=vLqTf2b6GZw&amp;pp...</td>\n",
       "      <td>Very-Long-Videos</td>\n",
       "    </tr>\n",
       "    <tr>\n",
       "      <th>3</th>\n",
       "      <td>python part 13 break continute python computer...</td>\n",
       "      <td>computer shagoofi</td>\n",
       "      <td>22</td>\n",
       "      <td>2 days ago</td>\n",
       "      <td>238 s</td>\n",
       "      <td>https://www.youtube.com/watch?v=oSku7SuCRfM&amp;pp...</td>\n",
       "      <td>Mini-Videos</td>\n",
       "    </tr>\n",
       "    <tr>\n",
       "      <th>4</th>\n",
       "      <td>python tutorial python full course beginners t...</td>\n",
       "      <td>Error Makes Clever</td>\n",
       "      <td>4.5M</td>\n",
       "      <td>1 year ago</td>\n",
       "      <td>34684 s</td>\n",
       "      <td>https://www.youtube.com/watch?v=m67-bOpOoPU&amp;pp...</td>\n",
       "      <td>Very-Long-Videos</td>\n",
       "    </tr>\n",
       "  </tbody>\n",
       "</table>\n",
       "</div>"
      ],
      "text/plain": [
       "                                               Title                Channel  \\\n",
       "0        python beginners learn coding python 1 hour  Programming with Mosh   \n",
       "1                       python full course beginners  Programming with Mosh   \n",
       "2    python tutorial beginners learn python 15 hours           Apna College   \n",
       "3  python part 13 break continute python computer...      computer shagoofi   \n",
       "4  python tutorial python full course beginners t...     Error Makes Clever   \n",
       "\n",
       "  Views  Upload Time Duration  \\\n",
       "0   20M  4 years ago   3606 s   \n",
       "1   43M  6 years ago  22447 s   \n",
       "2   10M  3 years ago   4632 s   \n",
       "3    22   2 days ago    238 s   \n",
       "4  4.5M   1 year ago  34684 s   \n",
       "\n",
       "                                                Link          Category  \n",
       "0  https://www.youtube.com/watch?v=kqtD5dpn9C8&pp...  Very-Long-Videos  \n",
       "1  https://www.youtube.com/watch?v=_uQrJ0TkZlc&pp...  Very-Long-Videos  \n",
       "2  https://www.youtube.com/watch?v=vLqTf2b6GZw&pp...  Very-Long-Videos  \n",
       "3  https://www.youtube.com/watch?v=oSku7SuCRfM&pp...       Mini-Videos  \n",
       "4  https://www.youtube.com/watch?v=m67-bOpOoPU&pp...  Very-Long-Videos  "
      ]
     },
     "execution_count": 437,
     "metadata": {},
     "output_type": "execute_result"
    }
   ],
   "source": [
    "data.head()"
   ]
  },
  {
   "cell_type": "code",
   "execution_count": 438,
   "id": "345285ee-4559-463a-8081-4eefb47b4afd",
   "metadata": {},
   "outputs": [],
   "source": [
    "#Capitalize the title after text processing\n",
    "data['Title'] = data['Title'].str.title()"
   ]
  },
  {
   "cell_type": "code",
   "execution_count": 439,
   "id": "7375e6a9-16c9-4bae-afbd-5780ef52e1f8",
   "metadata": {},
   "outputs": [
    {
     "data": {
      "text/html": [
       "<div>\n",
       "<style scoped>\n",
       "    .dataframe tbody tr th:only-of-type {\n",
       "        vertical-align: middle;\n",
       "    }\n",
       "\n",
       "    .dataframe tbody tr th {\n",
       "        vertical-align: top;\n",
       "    }\n",
       "\n",
       "    .dataframe thead th {\n",
       "        text-align: right;\n",
       "    }\n",
       "</style>\n",
       "<table border=\"1\" class=\"dataframe\">\n",
       "  <thead>\n",
       "    <tr style=\"text-align: right;\">\n",
       "      <th></th>\n",
       "      <th>Title</th>\n",
       "      <th>Channel</th>\n",
       "      <th>Views</th>\n",
       "      <th>Upload Time</th>\n",
       "      <th>Duration</th>\n",
       "      <th>Link</th>\n",
       "      <th>Category</th>\n",
       "    </tr>\n",
       "  </thead>\n",
       "  <tbody>\n",
       "    <tr>\n",
       "      <th>0</th>\n",
       "      <td>Python Beginners Learn Coding Python 1 Hour</td>\n",
       "      <td>Programming with Mosh</td>\n",
       "      <td>20M</td>\n",
       "      <td>4 years ago</td>\n",
       "      <td>3606 s</td>\n",
       "      <td>https://www.youtube.com/watch?v=kqtD5dpn9C8&amp;pp...</td>\n",
       "      <td>Very-Long-Videos</td>\n",
       "    </tr>\n",
       "    <tr>\n",
       "      <th>1</th>\n",
       "      <td>Python Full Course Beginners</td>\n",
       "      <td>Programming with Mosh</td>\n",
       "      <td>43M</td>\n",
       "      <td>6 years ago</td>\n",
       "      <td>22447 s</td>\n",
       "      <td>https://www.youtube.com/watch?v=_uQrJ0TkZlc&amp;pp...</td>\n",
       "      <td>Very-Long-Videos</td>\n",
       "    </tr>\n",
       "    <tr>\n",
       "      <th>2</th>\n",
       "      <td>Python Tutorial Beginners Learn Python 15 Hours</td>\n",
       "      <td>Apna College</td>\n",
       "      <td>10M</td>\n",
       "      <td>3 years ago</td>\n",
       "      <td>4632 s</td>\n",
       "      <td>https://www.youtube.com/watch?v=vLqTf2b6GZw&amp;pp...</td>\n",
       "      <td>Very-Long-Videos</td>\n",
       "    </tr>\n",
       "    <tr>\n",
       "      <th>3</th>\n",
       "      <td>Python Part 13 Break Continute Python Computer...</td>\n",
       "      <td>computer shagoofi</td>\n",
       "      <td>22</td>\n",
       "      <td>2 days ago</td>\n",
       "      <td>238 s</td>\n",
       "      <td>https://www.youtube.com/watch?v=oSku7SuCRfM&amp;pp...</td>\n",
       "      <td>Mini-Videos</td>\n",
       "    </tr>\n",
       "    <tr>\n",
       "      <th>4</th>\n",
       "      <td>Python Tutorial Python Full Course Beginners T...</td>\n",
       "      <td>Error Makes Clever</td>\n",
       "      <td>4.5M</td>\n",
       "      <td>1 year ago</td>\n",
       "      <td>34684 s</td>\n",
       "      <td>https://www.youtube.com/watch?v=m67-bOpOoPU&amp;pp...</td>\n",
       "      <td>Very-Long-Videos</td>\n",
       "    </tr>\n",
       "  </tbody>\n",
       "</table>\n",
       "</div>"
      ],
      "text/plain": [
       "                                               Title                Channel  \\\n",
       "0        Python Beginners Learn Coding Python 1 Hour  Programming with Mosh   \n",
       "1                       Python Full Course Beginners  Programming with Mosh   \n",
       "2    Python Tutorial Beginners Learn Python 15 Hours           Apna College   \n",
       "3  Python Part 13 Break Continute Python Computer...      computer shagoofi   \n",
       "4  Python Tutorial Python Full Course Beginners T...     Error Makes Clever   \n",
       "\n",
       "  Views  Upload Time Duration  \\\n",
       "0   20M  4 years ago   3606 s   \n",
       "1   43M  6 years ago  22447 s   \n",
       "2   10M  3 years ago   4632 s   \n",
       "3    22   2 days ago    238 s   \n",
       "4  4.5M   1 year ago  34684 s   \n",
       "\n",
       "                                                Link          Category  \n",
       "0  https://www.youtube.com/watch?v=kqtD5dpn9C8&pp...  Very-Long-Videos  \n",
       "1  https://www.youtube.com/watch?v=_uQrJ0TkZlc&pp...  Very-Long-Videos  \n",
       "2  https://www.youtube.com/watch?v=vLqTf2b6GZw&pp...  Very-Long-Videos  \n",
       "3  https://www.youtube.com/watch?v=oSku7SuCRfM&pp...       Mini-Videos  \n",
       "4  https://www.youtube.com/watch?v=m67-bOpOoPU&pp...  Very-Long-Videos  "
      ]
     },
     "execution_count": 439,
     "metadata": {},
     "output_type": "execute_result"
    }
   ],
   "source": [
    "data.head()"
   ]
  },
  {
   "cell_type": "code",
   "execution_count": 440,
   "id": "86a5b27e-ce98-4f16-bda1-55a16236462a",
   "metadata": {},
   "outputs": [
    {
     "data": {
      "text/html": [
       "<div>\n",
       "<style scoped>\n",
       "    .dataframe tbody tr th:only-of-type {\n",
       "        vertical-align: middle;\n",
       "    }\n",
       "\n",
       "    .dataframe tbody tr th {\n",
       "        vertical-align: top;\n",
       "    }\n",
       "\n",
       "    .dataframe thead th {\n",
       "        text-align: right;\n",
       "    }\n",
       "</style>\n",
       "<table border=\"1\" class=\"dataframe\">\n",
       "  <thead>\n",
       "    <tr style=\"text-align: right;\">\n",
       "      <th></th>\n",
       "      <th>Title</th>\n",
       "      <th>Channel</th>\n",
       "      <th>Views</th>\n",
       "      <th>Upload Time</th>\n",
       "      <th>Duration</th>\n",
       "      <th>Category</th>\n",
       "      <th>Link</th>\n",
       "    </tr>\n",
       "  </thead>\n",
       "  <tbody>\n",
       "    <tr>\n",
       "      <th>0</th>\n",
       "      <td>Python Beginners Learn Coding Python 1 Hour</td>\n",
       "      <td>Programming with Mosh</td>\n",
       "      <td>20M</td>\n",
       "      <td>4 years ago</td>\n",
       "      <td>3606 s</td>\n",
       "      <td>Very-Long-Videos</td>\n",
       "      <td>https://www.youtube.com/watch?v=kqtD5dpn9C8&amp;pp...</td>\n",
       "    </tr>\n",
       "    <tr>\n",
       "      <th>1</th>\n",
       "      <td>Python Full Course Beginners</td>\n",
       "      <td>Programming with Mosh</td>\n",
       "      <td>43M</td>\n",
       "      <td>6 years ago</td>\n",
       "      <td>22447 s</td>\n",
       "      <td>Very-Long-Videos</td>\n",
       "      <td>https://www.youtube.com/watch?v=_uQrJ0TkZlc&amp;pp...</td>\n",
       "    </tr>\n",
       "    <tr>\n",
       "      <th>2</th>\n",
       "      <td>Python Tutorial Beginners Learn Python 15 Hours</td>\n",
       "      <td>Apna College</td>\n",
       "      <td>10M</td>\n",
       "      <td>3 years ago</td>\n",
       "      <td>4632 s</td>\n",
       "      <td>Very-Long-Videos</td>\n",
       "      <td>https://www.youtube.com/watch?v=vLqTf2b6GZw&amp;pp...</td>\n",
       "    </tr>\n",
       "    <tr>\n",
       "      <th>3</th>\n",
       "      <td>Python Part 13 Break Continute Python Computer...</td>\n",
       "      <td>computer shagoofi</td>\n",
       "      <td>22</td>\n",
       "      <td>2 days ago</td>\n",
       "      <td>238 s</td>\n",
       "      <td>Mini-Videos</td>\n",
       "      <td>https://www.youtube.com/watch?v=oSku7SuCRfM&amp;pp...</td>\n",
       "    </tr>\n",
       "    <tr>\n",
       "      <th>4</th>\n",
       "      <td>Python Tutorial Python Full Course Beginners T...</td>\n",
       "      <td>Error Makes Clever</td>\n",
       "      <td>4.5M</td>\n",
       "      <td>1 year ago</td>\n",
       "      <td>34684 s</td>\n",
       "      <td>Very-Long-Videos</td>\n",
       "      <td>https://www.youtube.com/watch?v=m67-bOpOoPU&amp;pp...</td>\n",
       "    </tr>\n",
       "  </tbody>\n",
       "</table>\n",
       "</div>"
      ],
      "text/plain": [
       "                                               Title                Channel  \\\n",
       "0        Python Beginners Learn Coding Python 1 Hour  Programming with Mosh   \n",
       "1                       Python Full Course Beginners  Programming with Mosh   \n",
       "2    Python Tutorial Beginners Learn Python 15 Hours           Apna College   \n",
       "3  Python Part 13 Break Continute Python Computer...      computer shagoofi   \n",
       "4  Python Tutorial Python Full Course Beginners T...     Error Makes Clever   \n",
       "\n",
       "  Views  Upload Time Duration          Category  \\\n",
       "0   20M  4 years ago   3606 s  Very-Long-Videos   \n",
       "1   43M  6 years ago  22447 s  Very-Long-Videos   \n",
       "2   10M  3 years ago   4632 s  Very-Long-Videos   \n",
       "3    22   2 days ago    238 s       Mini-Videos   \n",
       "4  4.5M   1 year ago  34684 s  Very-Long-Videos   \n",
       "\n",
       "                                                Link  \n",
       "0  https://www.youtube.com/watch?v=kqtD5dpn9C8&pp...  \n",
       "1  https://www.youtube.com/watch?v=_uQrJ0TkZlc&pp...  \n",
       "2  https://www.youtube.com/watch?v=vLqTf2b6GZw&pp...  \n",
       "3  https://www.youtube.com/watch?v=oSku7SuCRfM&pp...  \n",
       "4  https://www.youtube.com/watch?v=m67-bOpOoPU&pp...  "
      ]
     },
     "execution_count": 440,
     "metadata": {},
     "output_type": "execute_result"
    }
   ],
   "source": [
    "#Change the column order\n",
    "data=data.iloc[:,[0, 1, 2, 3, 4, 6, 5]]\n",
    "data.head()"
   ]
  },
  {
   "cell_type": "markdown",
   "id": "cffc062f-98a1-4eec-86da-35971bb6a3c8",
   "metadata": {},
   "source": [
    "# Data Visualization"
   ]
  },
  {
   "cell_type": "code",
   "execution_count": 441,
   "id": "913dd49b-9717-4981-b560-967aabbf1c14",
   "metadata": {},
   "outputs": [],
   "source": [
    "import matplotlib.pyplot as plt"
   ]
  },
  {
   "cell_type": "markdown",
   "id": "5067b180-cde8-45aa-891e-3c2425379c62",
   "metadata": {},
   "source": [
    "### 📊 Bar Chart: Top 10 Most Frequent Video Categories"
   ]
  },
  {
   "cell_type": "code",
   "execution_count": 442,
   "id": "15b75d81-2ebe-4d1b-a75d-4ffd2a2219f5",
   "metadata": {},
   "outputs": [
    {
     "data": {
      "image/png": "[encoded data removed]",
      "text/plain": [
       "<Figure size 1000x500 with 1 Axes>"
      ]
     },
     "metadata": {},
     "output_type": "display_data"
    }
   ],
   "source": [
    "# Count the number of videos per category\n",
    "category_counts = data['Category'].value_counts()\n",
    "\n",
    "# Plot\n",
    "plt.figure(figsize=(10, 5))\n",
    "category_counts[:10].plot(kind='bar', color=['skyblue','lavender','pink','purple'], edgecolor='black')\n",
    "\n",
    "plt.title(\"Top 10 Most Frequent Video Categories\", fontsize=14)\n",
    "plt.xlabel(\"Category\", fontsize=12)\n",
    "plt.ylabel(\"Number of Videos\", fontsize=12)\n",
    "plt.xticks(rotation=360)\n",
    "plt.grid(axis='y', linestyle='--', alpha=0.7)\n",
    "plt.show()"
   ]
  },
  {
   "cell_type": "markdown",
   "id": "f95298ab-a726-4f23-8377-13307a68a31e",
   "metadata": {},
   "source": [
    "### Pie Chart: Distribution of Video Categories"
   ]
  },
  {
   "cell_type": "code",
   "execution_count": 443,
   "id": "1ca5a166-90c6-4da6-8ed1-5caf745b93b0",
   "metadata": {},
   "outputs": [
    {
     "data": {
      "image/png": "[encoded data removed]",
      "text/plain": [
       "<Figure size 700x700 with 1 Axes>"
      ]
     },
     "metadata": {},
     "output_type": "display_data"
    }
   ],
   "source": [
    "plt.figure(figsize=(7, 7))\n",
    "category_counts.plot(kind='pie', autopct='%1.1f%%', colors=['skyblue', 'lightcoral', 'lavender', 'pink'])\n",
    "\n",
    "plt.title(\"Video Category Distribution\")\n",
    "plt.ylabel(\"\")  # Hide the default y-label\n",
    "plt.show()"
   ]
  },
  {
   "cell_type": "markdown",
   "id": "7e7977af-38f4-45e7-bba7-19ee87afaa22",
   "metadata": {},
   "source": [
    "### 3️⃣ Histogram: Distribution of Video Durations"
   ]
  },
  {
   "cell_type": "code",
   "execution_count": 444,
   "id": "206e4a2b-6c23-43e4-8be1-95b75f3583a3",
   "metadata": {},
   "outputs": [
    {
     "data": {
      "image/png": "[encoded data removed]",
      "text/plain": [
       "<Figure size 1000x500 with 1 Axes>"
      ]
     },
     "metadata": {},
     "output_type": "display_data"
    }
   ],
   "source": [
    "# Convert all values to string first to avoid AttributeError\n",
    "a = data['Duration'].astype(str)\n",
    "\n",
    "# Remove all non-numeric characters using regex\n",
    "b = a.str.replace(r'\\D', '', regex=True)\n",
    "\n",
    "# Convert cleaned values to integers (handling NaN)\n",
    "c= pd.to_numeric(b, errors='coerce').fillna(0).astype(int)\n",
    "\n",
    "# Convert seconds to minutes\n",
    "data['Duration_Min'] = c/ 60\n",
    "\n",
    "plt.figure(figsize=(10, 5))\n",
    "plt.hist(data['Duration_Min'], bins=20, color='purple', edgecolor='black', alpha=0.7)\n",
    "\n",
    "plt.title(\"Distribution of Video Durations (in Minutes)\")\n",
    "plt.xlabel(\"Duration (minutes)\")\n",
    "plt.ylabel(\"Number of Videos\")\n",
    "plt.grid(axis='y', linestyle='--', alpha=0.7)\n",
    "plt.show()"
   ]
  },
  {
   "cell_type": "markdown",
   "id": "32359021-813f-40d0-93ea-1f3756c50a5a",
   "metadata": {},
   "source": [
    "### 4️⃣ Scatter Plot: Relationship Between Views and Duration"
   ]
  },
  {
   "cell_type": "code",
   "execution_count": 445,
   "id": "1be298a5-3d13-48a8-9d89-60e07f858c69",
   "metadata": {},
   "outputs": [
    {
     "data": {
      "image/png": "[encoded data removed]",
      "text/plain": [
       "<Figure size 1000x500 with 1 Axes>"
      ]
     },
     "metadata": {},
     "output_type": "display_data"
    }
   ],
   "source": [
    "#Convert to numeric data\n",
    "v = pd.to_numeric(data['Views'], errors='coerce')\n",
    "\n",
    "plt.figure(figsize=(10, 5))\n",
    "plt.scatter(data['Duration_Min'], v, alpha=0.5, color='red')\n",
    "\n",
    "plt.title(\"Views vs. Duration\")\n",
    "plt.xlabel(\"Duration (minutes)\")\n",
    "plt.ylabel(\"Views\")\n",
    "plt.grid(True)\n",
    "plt.show()"
   ]
  },
  {
   "cell_type": "code",
   "execution_count": 446,
   "id": "15f3fb1d-f9a9-4d41-affe-9d3b15d38253",
   "metadata": {},
   "outputs": [
    {
     "data": {
      "text/html": [
       "<div>\n",
       "<style scoped>\n",
       "    .dataframe tbody tr th:only-of-type {\n",
       "        vertical-align: middle;\n",
       "    }\n",
       "\n",
       "    .dataframe tbody tr th {\n",
       "        vertical-align: top;\n",
       "    }\n",
       "\n",
       "    .dataframe thead th {\n",
       "        text-align: right;\n",
       "    }\n",
       "</style>\n",
       "<table border=\"1\" class=\"dataframe\">\n",
       "  <thead>\n",
       "    <tr style=\"text-align: right;\">\n",
       "      <th></th>\n",
       "      <th>Title</th>\n",
       "      <th>Channel</th>\n",
       "      <th>Views</th>\n",
       "      <th>Upload Time</th>\n",
       "      <th>Duration</th>\n",
       "      <th>Category</th>\n",
       "      <th>Link</th>\n",
       "      <th>Duration_Min</th>\n",
       "    </tr>\n",
       "  </thead>\n",
       "  <tbody>\n",
       "    <tr>\n",
       "      <th>0</th>\n",
       "      <td>Python Beginners Learn Coding Python 1 Hour</td>\n",
       "      <td>Programming with Mosh</td>\n",
       "      <td>20M</td>\n",
       "      <td>4 years ago</td>\n",
       "      <td>3606 s</td>\n",
       "      <td>Very-Long-Videos</td>\n",
       "      <td>https://www.youtube.com/watch?v=kqtD5dpn9C8&amp;pp...</td>\n",
       "      <td>60.100000</td>\n",
       "    </tr>\n",
       "    <tr>\n",
       "      <th>1</th>\n",
       "      <td>Python Full Course Beginners</td>\n",
       "      <td>Programming with Mosh</td>\n",
       "      <td>43M</td>\n",
       "      <td>6 years ago</td>\n",
       "      <td>22447 s</td>\n",
       "      <td>Very-Long-Videos</td>\n",
       "      <td>https://www.youtube.com/watch?v=_uQrJ0TkZlc&amp;pp...</td>\n",
       "      <td>374.116667</td>\n",
       "    </tr>\n",
       "    <tr>\n",
       "      <th>2</th>\n",
       "      <td>Python Tutorial Beginners Learn Python 15 Hours</td>\n",
       "      <td>Apna College</td>\n",
       "      <td>10M</td>\n",
       "      <td>3 years ago</td>\n",
       "      <td>4632 s</td>\n",
       "      <td>Very-Long-Videos</td>\n",
       "      <td>https://www.youtube.com/watch?v=vLqTf2b6GZw&amp;pp...</td>\n",
       "      <td>77.200000</td>\n",
       "    </tr>\n",
       "    <tr>\n",
       "      <th>3</th>\n",
       "      <td>Python Part 13 Break Continute Python Computer...</td>\n",
       "      <td>computer shagoofi</td>\n",
       "      <td>22</td>\n",
       "      <td>2 days ago</td>\n",
       "      <td>238 s</td>\n",
       "      <td>Mini-Videos</td>\n",
       "      <td>https://www.youtube.com/watch?v=oSku7SuCRfM&amp;pp...</td>\n",
       "      <td>3.966667</td>\n",
       "    </tr>\n",
       "    <tr>\n",
       "      <th>4</th>\n",
       "      <td>Python Tutorial Python Full Course Beginners T...</td>\n",
       "      <td>Error Makes Clever</td>\n",
       "      <td>4.5M</td>\n",
       "      <td>1 year ago</td>\n",
       "      <td>34684 s</td>\n",
       "      <td>Very-Long-Videos</td>\n",
       "      <td>https://www.youtube.com/watch?v=m67-bOpOoPU&amp;pp...</td>\n",
       "      <td>578.066667</td>\n",
       "    </tr>\n",
       "  </tbody>\n",
       "</table>\n",
       "</div>"
      ],
      "text/plain": [
       "                                               Title                Channel  \\\n",
       "0        Python Beginners Learn Coding Python 1 Hour  Programming with Mosh   \n",
       "1                       Python Full Course Beginners  Programming with Mosh   \n",
       "2    Python Tutorial Beginners Learn Python 15 Hours           Apna College   \n",
       "3  Python Part 13 Break Continute Python Computer...      computer shagoofi   \n",
       "4  Python Tutorial Python Full Course Beginners T...     Error Makes Clever   \n",
       "\n",
       "  Views  Upload Time Duration          Category  \\\n",
       "0   20M  4 years ago   3606 s  Very-Long-Videos   \n",
       "1   43M  6 years ago  22447 s  Very-Long-Videos   \n",
       "2   10M  3 years ago   4632 s  Very-Long-Videos   \n",
       "3    22   2 days ago    238 s       Mini-Videos   \n",
       "4  4.5M   1 year ago  34684 s  Very-Long-Videos   \n",
       "\n",
       "                                                Link  Duration_Min  \n",
       "0  https://www.youtube.com/watch?v=kqtD5dpn9C8&pp...     60.100000  \n",
       "1  https://www.youtube.com/watch?v=_uQrJ0TkZlc&pp...    374.116667  \n",
       "2  https://www.youtube.com/watch?v=vLqTf2b6GZw&pp...     77.200000  \n",
       "3  https://www.youtube.com/watch?v=oSku7SuCRfM&pp...      3.966667  \n",
       "4  https://www.youtube.com/watch?v=m67-bOpOoPU&pp...    578.066667  "
      ]
     },
     "execution_count": 446,
     "metadata": {},
     "output_type": "execute_result"
    }
   ],
   "source": [
    "data.head()"
   ]
  }
 ],
 "metadata": {
  "kernelspec": {
   "display_name": "blah",
   "language": "python",
   "name": "python3"
  },
  "language_info": {
   "codemirror_mode": {
    "name": "ipython",
    "version": 3
   },
   "file_extension": ".py",
   "mimetype": "text/x-python",
   "name": "python",
   "nbconvert_exporter": "python",
   "pygments_lexer": "ipython3",
   "version": "3.10.13"
  }
 },
 "nbformat": 4,
 "nbformat_minor": 5
}
